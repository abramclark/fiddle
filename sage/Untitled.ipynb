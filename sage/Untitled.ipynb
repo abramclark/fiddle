{
 "cells": [
  {
   "cell_type": "code",
   "execution_count": 7,
   "id": "fbdbb861",
   "metadata": {},
   "outputs": [
    {
     "data": {
      "text/plain": [
       "100*pi"
      ]
     },
     "execution_count": 7,
     "metadata": {},
     "output_type": "execute_result"
    }
   ],
   "source": [
    "r = 10; pi*r^2"
   ]
  },
  {
   "cell_type": "code",
   "execution_count": 9,
   "id": "59e949ce",
   "metadata": {},
   "outputs": [
    {
     "data": {
      "text/plain": [
       "pi"
      ]
     },
     "execution_count": 9,
     "metadata": {},
     "output_type": "execute_result"
    }
   ],
   "source": [
    "integral((x^3 * cos(x/2) + 1/2) * (4 - x^2)^.5, x, -2, 2) "
   ]
  },
  {
   "cell_type": "code",
   "execution_count": 14,
   "id": "72aa6cd6",
   "metadata": {
    "scrolled": true
   },
   "outputs": [
    {
     "data": {
      "text/plain": [
       "0"
      ]
     },
     "execution_count": 14,
     "metadata": {},
     "output_type": "execute_result"
    }
   ],
   "source": [
    "integral((x^3 * cos(x)), x, -2, 2)"
   ]
  },
  {
   "cell_type": "code",
   "execution_count": null,
   "id": "959e2c49",
   "metadata": {},
   "outputs": [],
   "source": []
  }
 ],
 "metadata": {
  "kernelspec": {
   "display_name": "SageMath 9.5",
   "language": "sage",
   "name": "sagemath-9.5"
  },
  "language_info": {
   "codemirror_mode": {
    "name": "ipython",
    "version": 3
   },
   "file_extension": ".py",
   "mimetype": "text/x-python",
   "name": "python",
   "nbconvert_exporter": "python",
   "pygments_lexer": "ipython3",
   "version": "3.9.9"
  }
 },
 "nbformat": 4,
 "nbformat_minor": 5
}
